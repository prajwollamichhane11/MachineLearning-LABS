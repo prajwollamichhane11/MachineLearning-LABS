{
 "cells": [
  {
   "cell_type": "code",
   "execution_count": 45,
   "metadata": {},
   "outputs": [],
   "source": [
    "import numpy as np\n",
    "import pandas as pd\n",
    "import matplotlib.pyplot as plt\n",
    "import spacy"
   ]
  },
  {
   "cell_type": "code",
   "execution_count": 46,
   "metadata": {},
   "outputs": [
    {
     "name": "stdout",
     "output_type": "stream",
     "text": [
      "'1.Data Pre-Processing.ipynb'\t\t       featurextacted.csv\r\n",
      " 2.ClassificationUsingCosineSimilarity.ipynb   non_clickbait_data\r\n",
      " 3.Feature-Extractions.ipynb\t\t       NonClickbaits.csv\r\n",
      " 4.LogisticRegressionClassification.ipynb      POS.png\r\n",
      " clickbait_data\t\t\t\t       README.md\r\n",
      " Clickbaits.csv\t\t\t\t       Visualization.ipynb\r\n",
      " dataset.csv\r\n"
     ]
    }
   ],
   "source": [
    "!ls"
   ]
  },
  {
   "cell_type": "code",
   "execution_count": 47,
   "metadata": {},
   "outputs": [],
   "source": [
    "clkbait = pd.read_csv(\"Clickbaits.csv\")\n",
    "nonclkbait = pd.read_csv(\"NonClickbaits.csv\")\n",
    "featdf = pd.read_csv(\"featurextacted.csv\")"
   ]
  },
  {
   "cell_type": "code",
   "execution_count": 48,
   "metadata": {},
   "outputs": [],
   "source": [
    "lenclick = len(clkbait)\n",
    "lennonclick = len(nonclkbait)"
   ]
  },
  {
   "cell_type": "code",
   "execution_count": 49,
   "metadata": {},
   "outputs": [],
   "source": [
    "featdf.drop([\"Unnamed: 0\",\"Unnamed: 0.1\"],axis=1,inplace=True)"
   ]
  },
  {
   "cell_type": "code",
   "execution_count": 50,
   "metadata": {},
   "outputs": [],
   "source": [
    "nlp = spacy.load('en_core_web_sm')"
   ]
  },
  {
   "cell_type": "code",
   "execution_count": 51,
   "metadata": {},
   "outputs": [],
   "source": [
    "def clickPOS():\n",
    "    ccntPOS = []\n",
    "    vrb,pron,aux,noun,det,propn,adp,punct,adv,adj,part,cconj,intj,x,num,sym,sconj,space = 0,0,0,0,0,0,0,0,0,0,0,0,0,0,0,0,0,0\n",
    "    for i in range(lenclick):\n",
    "        doc = nlp(clkbait[\"Clickbaits\"][i])\n",
    "        for token in doc:\n",
    "            if token.pos_ == \"VERB\":\n",
    "                vrb += 1\n",
    "            elif token.pos_ == \"PRON\":\n",
    "                pron += 1\n",
    "            elif token.pos_ == \"AUX\":\n",
    "                aux += 1\n",
    "            elif token.pos_ == \"NOUN\":\n",
    "                noun += 1\n",
    "            elif token.pos_ == \"DET\":\n",
    "                det += 1\n",
    "            elif token.pos_ == \"PROPN\":\n",
    "                propn += 1\n",
    "            elif token.pos_ == \"ADP\":\n",
    "                adp += 1\n",
    "            elif token.pos_ == \"PUNCT\":\n",
    "                punct += 1\n",
    "            elif token.pos_ == \"ADJ\":\n",
    "                adj += 1\n",
    "            elif token.pos_ == \"ADV\":\n",
    "                adv += 1\n",
    "            elif token.pos_ == \"PART\":\n",
    "                part += 1\n",
    "            elif token.pos_ == \"CCONJ\":\n",
    "                cconj += 1\n",
    "            elif token.pos_ == \"INTJ\":\n",
    "                intj += 1\n",
    "            elif token.pos_ == \"X\":\n",
    "                x += 1\n",
    "            elif token.pos_ == \"NUM\":\n",
    "                num += 1\n",
    "            elif token.pos_ == \"SYM\":\n",
    "                sym += 1\n",
    "            elif token.pos_ == \"SCONJ\":\n",
    "                sconj += 1\n",
    "            elif token.pos_ == \"SPACE\":\n",
    "                space += 1\n",
    "            ccntPOS.append(token.pos_)\n",
    "    clickPOS_CNT = [propn,part,noun,adv,cconj,pron,intj,adj,x,aux,num,adp,sym,vrb,det,punct,sconj,space]\n",
    "    return (set(ccntPOS),clickPOS_CNT)"
   ]
  },
  {
   "cell_type": "code",
   "execution_count": 52,
   "metadata": {},
   "outputs": [],
   "source": [
    "def nonclickPOS():\n",
    "    nccntPOS = []\n",
    "    vrb,pron,aux,noun,det,propn,adp,punct,adv,adj,part,cconj,intj,x,num,sym,sconj,space = 0,0,0,0,0,0,0,0,0,0,0,0,0,0,0,0,0,0\n",
    "    for i in range(lennonclick):\n",
    "        doc = nlp(nonclkbait[\"Clickbaits\"][i])\n",
    "        for token in doc:\n",
    "            if token.pos_ == \"VERB\":\n",
    "                vrb += 1\n",
    "            elif token.pos_ == \"PRON\":\n",
    "                pron += 1\n",
    "            elif token.pos_ == \"AUX\":\n",
    "                aux += 1\n",
    "            elif token.pos_ == \"NOUN\":\n",
    "                noun += 1\n",
    "            elif token.pos_ == \"DET\":\n",
    "                det += 1\n",
    "            elif token.pos_ == \"PROPN\":\n",
    "                propn += 1\n",
    "            elif token.pos_ == \"ADP\":\n",
    "                adp += 1\n",
    "            elif token.pos_ == \"PUNCT\":\n",
    "                punct += 1\n",
    "            elif token.pos_ == \"ADJ\":\n",
    "                adj += 1\n",
    "            elif token.pos_ == \"ADV\":\n",
    "                adv += 1\n",
    "            elif token.pos_ == \"PART\":\n",
    "                part += 1\n",
    "            elif token.pos_ == \"CCONJ\":\n",
    "                cconj += 1\n",
    "            elif token.pos_ == \"INTJ\":\n",
    "                intj += 1\n",
    "            elif token.pos_ == \"X\":\n",
    "                x += 1\n",
    "            elif token.pos_ == \"NUM\":\n",
    "                num += 1\n",
    "            elif token.pos_ == \"SYM\":\n",
    "                sym += 1\n",
    "            elif token.pos_ == \"SCONJ\":\n",
    "                sconj += 1\n",
    "            elif token.pos_ == \"SPACE\":\n",
    "                space += 1\n",
    "            nccntPOS.append(token.pos_)\n",
    "    nonclickPOS_CNT = [propn,part,noun,adv,cconj,pron,intj,adj,x,aux,num,adp,sym,vrb,det,punct,sconj,space]\n",
    "    return (nonclickPOS_CNT)"
   ]
  },
  {
   "cell_type": "code",
   "execution_count": 53,
   "metadata": {},
   "outputs": [],
   "source": [
    "labels,clickPOS_CNT = clickPOS()\n",
    "nonclickPOS_CNT = nonclickPOS()\n",
    "labels = list(labels)"
   ]
  },
  {
   "cell_type": "code",
   "execution_count": 54,
   "metadata": {},
   "outputs": [
    {
     "data": {
      "image/png": "[encoded data removed]",
      "text/plain": [
       "<Figure size 720x720 with 1 Axes>"
      ]
     },
     "metadata": {
      "needs_background": "light"
     },
     "output_type": "display_data"
    }
   ],
   "source": [
    "x = np.arange(len(labels))  # the label locations\n",
    "width = 0.20  # the width of the bars\n",
    "\n",
    "fig, ax = plt.subplots(figsize=(10,10))\n",
    "rects1 = ax.bar(x - width/2, clickPOS_CNT, width, label='Clickbaits')\n",
    "rects2 = ax.bar(x + width/2, nonclickPOS_CNT, width, label='Non Clickbaits')\n",
    "\n",
    "# Add some text for labels, title and custom x-axis tick labels, etc.\n",
    "ax.set_ylabel('No. of POS-------------->')\n",
    "ax.set_xlabel('POS-------------->')\n",
    "ax.set_title('POS tags on Samples')\n",
    "ax.set_xticks(x)\n",
    "ax.set_xticklabels(labels)\n",
    "ax.legend()\n",
    "\n",
    "fig.tight_layout()\n",
    "\n",
    "plt.savefig(\"POS.png\")\n",
    "plt.show()"
   ]
  },
  {
   "cell_type": "code",
   "execution_count": 61,
   "metadata": {},
   "outputs": [],
   "source": [
    "# CCONJ = and or but ; Coordinating Conjunction\n",
    "# AUX = be must should have has..."
   ]
  },
  {
   "cell_type": "markdown",
   "metadata": {},
   "source": [
    "# Some Intuitions\n",
    "We can see that proper nouns and nouns are relatively higher on the Non-Clickbaits probably because the non-clickbaits are more likely to have information regarding a place, person, country, etc As, a whole they are specific. But, since the Clickbaits are targeted for whole community of people they are less likely to be specific. That is why the no. of proper nouns and nouns are relatively higher on the Non-Clickbaits.\n",
    "\n",
    "Also, it can be visualized that the ratio of pronouns, determiners are quite high on the clickbaits than that in the non-clickbaits. Because, the same reason the pronouns like you, i ,etc are used to attract the person on the internet to a particular place. eg. \"You are our lucky user. You have won an amount of $10000.\" \n",
    "Similarly, same are the reasons for determiners being maximum used on the Clickbaits."
   ]
  },
  {
   "cell_type": "markdown",
   "metadata": {},
   "source": []
  },
  {
   "cell_type": "code",
   "execution_count": 55,
   "metadata": {},
   "outputs": [
    {
     "data": {
      "text/html": [
       "<div>\n",
       "<style scoped>\n",
       "    .dataframe tbody tr th:only-of-type {\n",
       "        vertical-align: middle;\n",
       "    }\n",
       "\n",
       "    .dataframe tbody tr th {\n",
       "        vertical-align: top;\n",
       "    }\n",
       "\n",
       "    .dataframe thead th {\n",
       "        text-align: right;\n",
       "    }\n",
       "</style>\n",
       "<table border=\"1\" class=\"dataframe\">\n",
       "  <thead>\n",
       "    <tr style=\"text-align: right;\">\n",
       "      <th></th>\n",
       "      <th>Clickbaits</th>\n",
       "      <th>bait</th>\n",
       "      <th>Length</th>\n",
       "      <th>AvgWordLength</th>\n",
       "      <th>StoptoContent</th>\n",
       "    </tr>\n",
       "  </thead>\n",
       "  <tbody>\n",
       "    <tr>\n",
       "      <th>0</th>\n",
       "      <td>Declassified records show American inaction du...</td>\n",
       "      <td>0</td>\n",
       "      <td>77.0</td>\n",
       "      <td>6.800000</td>\n",
       "      <td>0.200000</td>\n",
       "    </tr>\n",
       "    <tr>\n",
       "      <th>1</th>\n",
       "      <td>Indian Maoists blamed for the deaths of sixtee...</td>\n",
       "      <td>0</td>\n",
       "      <td>57.0</td>\n",
       "      <td>5.444444</td>\n",
       "      <td>0.333333</td>\n",
       "    </tr>\n",
       "    <tr>\n",
       "      <th>2</th>\n",
       "      <td>Yahoo!7 creates joint venture with Xtra</td>\n",
       "      <td>0</td>\n",
       "      <td>39.0</td>\n",
       "      <td>5.666667</td>\n",
       "      <td>0.166667</td>\n",
       "    </tr>\n",
       "    <tr>\n",
       "      <th>3</th>\n",
       "      <td>Only Solve This Puzzle If You Love Board Games</td>\n",
       "      <td>1</td>\n",
       "      <td>46.0</td>\n",
       "      <td>4.222222</td>\n",
       "      <td>0.444444</td>\n",
       "    </tr>\n",
       "    <tr>\n",
       "      <th>4</th>\n",
       "      <td>Three dead in murder-suicide shooting at South...</td>\n",
       "      <td>0</td>\n",
       "      <td>81.0</td>\n",
       "      <td>6.454545</td>\n",
       "      <td>0.272727</td>\n",
       "    </tr>\n",
       "  </tbody>\n",
       "</table>\n",
       "</div>"
      ],
      "text/plain": [
       "                                          Clickbaits  bait  Length  \\\n",
       "0  Declassified records show American inaction du...     0    77.0   \n",
       "1  Indian Maoists blamed for the deaths of sixtee...     0    57.0   \n",
       "2            Yahoo!7 creates joint venture with Xtra     0    39.0   \n",
       "3     Only Solve This Puzzle If You Love Board Games     1    46.0   \n",
       "4  Three dead in murder-suicide shooting at South...     0    81.0   \n",
       "\n",
       "   AvgWordLength  StoptoContent  \n",
       "0       6.800000       0.200000  \n",
       "1       5.444444       0.333333  \n",
       "2       5.666667       0.166667  \n",
       "3       4.222222       0.444444  \n",
       "4       6.454545       0.272727  "
      ]
     },
     "execution_count": 55,
     "metadata": {},
     "output_type": "execute_result"
    }
   ],
   "source": [
    "featdf.head()"
   ]
  },
  {
   "cell_type": "code",
   "execution_count": null,
   "metadata": {},
   "outputs": [],
   "source": []
  }
 ],
 "metadata": {
  "kernelspec": {
   "display_name": "Python 3",
   "language": "python",
   "name": "python3"
  },
  "language_info": {
   "codemirror_mode": {
    "name": "ipython",
    "version": 3
   },
   "file_extension": ".py",
   "mimetype": "text/x-python",
   "name": "python",
   "nbconvert_exporter": "python",
   "pygments_lexer": "ipython3",
   "version": "3.6.8"
  }
 },
 "nbformat": 4,
 "nbformat_minor": 2
}
