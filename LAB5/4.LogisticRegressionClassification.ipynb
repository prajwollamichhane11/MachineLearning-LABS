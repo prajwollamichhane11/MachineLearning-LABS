{
 "cells": [
  {
   "cell_type": "code",
   "execution_count": 30,
   "metadata": {},
   "outputs": [],
   "source": [
    "import numpy as np\n",
    "import pandas as pd\n",
    "import matplotlib.pyplot as plt\n",
    "\n",
    "import pickle\n",
    "\n",
    "from sklearn.model_selection import train_test_split, cross_val_score\n",
    "from sklearn.feature_extraction.text import CountVectorizer, TfidfVectorizer\n",
    "from sklearn.linear_model import LogisticRegression\n",
    "from sklearn.metrics import classification_report, confusion_matrix, accuracy_score, precision_score, recall_score, f1_score, roc_auc_score, confusion_matrix"
   ]
  },
  {
   "cell_type": "code",
   "execution_count": 31,
   "metadata": {},
   "outputs": [],
   "source": [
    "df = pd.read_csv(\"featurextacted.csv\")"
   ]
  },
  {
   "cell_type": "code",
   "execution_count": 32,
   "metadata": {},
   "outputs": [
    {
     "data": {
      "text/html": [
       "<div>\n",
       "<style scoped>\n",
       "    .dataframe tbody tr th:only-of-type {\n",
       "        vertical-align: middle;\n",
       "    }\n",
       "\n",
       "    .dataframe tbody tr th {\n",
       "        vertical-align: top;\n",
       "    }\n",
       "\n",
       "    .dataframe thead th {\n",
       "        text-align: right;\n",
       "    }\n",
       "</style>\n",
       "<table border=\"1\" class=\"dataframe\">\n",
       "  <thead>\n",
       "    <tr style=\"text-align: right;\">\n",
       "      <th></th>\n",
       "      <th>Unnamed: 0</th>\n",
       "      <th>Clickbaits</th>\n",
       "      <th>bait</th>\n",
       "      <th>Length</th>\n",
       "      <th>AvgWordLength</th>\n",
       "      <th>StoptoContent</th>\n",
       "      <th>Cardinality</th>\n",
       "      <th>WordCount</th>\n",
       "      <th>Verb</th>\n",
       "      <th>Auxiliary</th>\n",
       "      <th>CoorConj</th>\n",
       "      <th>polarity</th>\n",
       "      <th>subjectivity</th>\n",
       "    </tr>\n",
       "  </thead>\n",
       "  <tbody>\n",
       "    <tr>\n",
       "      <th>0</th>\n",
       "      <td>0</td>\n",
       "      <td>North Korea to rejoin six-nation talks</td>\n",
       "      <td>0</td>\n",
       "      <td>38.0</td>\n",
       "      <td>5.500000</td>\n",
       "      <td>0.166667</td>\n",
       "      <td>1.0</td>\n",
       "      <td>6.0</td>\n",
       "      <td>1.0</td>\n",
       "      <td>0.0</td>\n",
       "      <td>0.0</td>\n",
       "      <td>0.000000</td>\n",
       "      <td>0.000000</td>\n",
       "    </tr>\n",
       "    <tr>\n",
       "      <th>1</th>\n",
       "      <td>1</td>\n",
       "      <td>Watch This Out Gay Marine Ask Singer Steve Gra...</td>\n",
       "      <td>1</td>\n",
       "      <td>73.0</td>\n",
       "      <td>4.285714</td>\n",
       "      <td>0.285714</td>\n",
       "      <td>1.0</td>\n",
       "      <td>14.0</td>\n",
       "      <td>2.0</td>\n",
       "      <td>0.0</td>\n",
       "      <td>0.0</td>\n",
       "      <td>0.458333</td>\n",
       "      <td>0.791667</td>\n",
       "    </tr>\n",
       "    <tr>\n",
       "      <th>2</th>\n",
       "      <td>2</td>\n",
       "      <td>Protester says Japanese whalers shot him</td>\n",
       "      <td>0</td>\n",
       "      <td>40.0</td>\n",
       "      <td>5.833333</td>\n",
       "      <td>0.166667</td>\n",
       "      <td>1.0</td>\n",
       "      <td>6.0</td>\n",
       "      <td>4.0</td>\n",
       "      <td>0.0</td>\n",
       "      <td>0.0</td>\n",
       "      <td>0.000000</td>\n",
       "      <td>0.000000</td>\n",
       "    </tr>\n",
       "    <tr>\n",
       "      <th>3</th>\n",
       "      <td>3</td>\n",
       "      <td>At least twelve die in Mogadishu attacks</td>\n",
       "      <td>0</td>\n",
       "      <td>40.0</td>\n",
       "      <td>4.857143</td>\n",
       "      <td>0.571429</td>\n",
       "      <td>2.0</td>\n",
       "      <td>7.0</td>\n",
       "      <td>4.0</td>\n",
       "      <td>0.0</td>\n",
       "      <td>0.0</td>\n",
       "      <td>-0.300000</td>\n",
       "      <td>0.400000</td>\n",
       "    </tr>\n",
       "    <tr>\n",
       "      <th>4</th>\n",
       "      <td>4</td>\n",
       "      <td>Can Strangers Match Couples</td>\n",
       "      <td>1</td>\n",
       "      <td>27.0</td>\n",
       "      <td>6.000000</td>\n",
       "      <td>0.250000</td>\n",
       "      <td>2.0</td>\n",
       "      <td>4.0</td>\n",
       "      <td>6.0</td>\n",
       "      <td>0.0</td>\n",
       "      <td>0.0</td>\n",
       "      <td>0.000000</td>\n",
       "      <td>0.000000</td>\n",
       "    </tr>\n",
       "  </tbody>\n",
       "</table>\n",
       "</div>"
      ],
      "text/plain": [
       "   Unnamed: 0                                         Clickbaits  bait  \\\n",
       "0           0             North Korea to rejoin six-nation talks     0   \n",
       "1           1  Watch This Out Gay Marine Ask Singer Steve Gra...     1   \n",
       "2           2           Protester says Japanese whalers shot him     0   \n",
       "3           3           At least twelve die in Mogadishu attacks     0   \n",
       "4           4                        Can Strangers Match Couples     1   \n",
       "\n",
       "   Length  AvgWordLength  StoptoContent  Cardinality  WordCount  Verb  \\\n",
       "0    38.0       5.500000       0.166667          1.0        6.0   1.0   \n",
       "1    73.0       4.285714       0.285714          1.0       14.0   2.0   \n",
       "2    40.0       5.833333       0.166667          1.0        6.0   4.0   \n",
       "3    40.0       4.857143       0.571429          2.0        7.0   4.0   \n",
       "4    27.0       6.000000       0.250000          2.0        4.0   6.0   \n",
       "\n",
       "   Auxiliary  CoorConj  polarity  subjectivity  \n",
       "0        0.0       0.0  0.000000      0.000000  \n",
       "1        0.0       0.0  0.458333      0.791667  \n",
       "2        0.0       0.0  0.000000      0.000000  \n",
       "3        0.0       0.0 -0.300000      0.400000  \n",
       "4        0.0       0.0  0.000000      0.000000  "
      ]
     },
     "execution_count": 32,
     "metadata": {},
     "output_type": "execute_result"
    }
   ],
   "source": [
    "df.head()"
   ]
  },
  {
   "cell_type": "code",
   "execution_count": 33,
   "metadata": {},
   "outputs": [],
   "source": [
    "df.drop([\"Unnamed: 0\"],axis=1,inplace=True)"
   ]
  },
  {
   "cell_type": "code",
   "execution_count": 34,
   "metadata": {},
   "outputs": [
    {
     "data": {
      "text/html": [
       "<div>\n",
       "<style scoped>\n",
       "    .dataframe tbody tr th:only-of-type {\n",
       "        vertical-align: middle;\n",
       "    }\n",
       "\n",
       "    .dataframe tbody tr th {\n",
       "        vertical-align: top;\n",
       "    }\n",
       "\n",
       "    .dataframe thead th {\n",
       "        text-align: right;\n",
       "    }\n",
       "</style>\n",
       "<table border=\"1\" class=\"dataframe\">\n",
       "  <thead>\n",
       "    <tr style=\"text-align: right;\">\n",
       "      <th></th>\n",
       "      <th>Clickbaits</th>\n",
       "      <th>bait</th>\n",
       "      <th>Length</th>\n",
       "      <th>AvgWordLength</th>\n",
       "      <th>StoptoContent</th>\n",
       "      <th>Cardinality</th>\n",
       "      <th>WordCount</th>\n",
       "      <th>Verb</th>\n",
       "      <th>Auxiliary</th>\n",
       "      <th>CoorConj</th>\n",
       "      <th>polarity</th>\n",
       "      <th>subjectivity</th>\n",
       "    </tr>\n",
       "  </thead>\n",
       "  <tbody>\n",
       "    <tr>\n",
       "      <th>0</th>\n",
       "      <td>North Korea to rejoin six-nation talks</td>\n",
       "      <td>0</td>\n",
       "      <td>38.0</td>\n",
       "      <td>5.500000</td>\n",
       "      <td>0.166667</td>\n",
       "      <td>1.0</td>\n",
       "      <td>6.0</td>\n",
       "      <td>1.0</td>\n",
       "      <td>0.0</td>\n",
       "      <td>0.0</td>\n",
       "      <td>0.000000</td>\n",
       "      <td>0.000000</td>\n",
       "    </tr>\n",
       "    <tr>\n",
       "      <th>1</th>\n",
       "      <td>Watch This Out Gay Marine Ask Singer Steve Gra...</td>\n",
       "      <td>1</td>\n",
       "      <td>73.0</td>\n",
       "      <td>4.285714</td>\n",
       "      <td>0.285714</td>\n",
       "      <td>1.0</td>\n",
       "      <td>14.0</td>\n",
       "      <td>2.0</td>\n",
       "      <td>0.0</td>\n",
       "      <td>0.0</td>\n",
       "      <td>0.458333</td>\n",
       "      <td>0.791667</td>\n",
       "    </tr>\n",
       "    <tr>\n",
       "      <th>2</th>\n",
       "      <td>Protester says Japanese whalers shot him</td>\n",
       "      <td>0</td>\n",
       "      <td>40.0</td>\n",
       "      <td>5.833333</td>\n",
       "      <td>0.166667</td>\n",
       "      <td>1.0</td>\n",
       "      <td>6.0</td>\n",
       "      <td>4.0</td>\n",
       "      <td>0.0</td>\n",
       "      <td>0.0</td>\n",
       "      <td>0.000000</td>\n",
       "      <td>0.000000</td>\n",
       "    </tr>\n",
       "    <tr>\n",
       "      <th>3</th>\n",
       "      <td>At least twelve die in Mogadishu attacks</td>\n",
       "      <td>0</td>\n",
       "      <td>40.0</td>\n",
       "      <td>4.857143</td>\n",
       "      <td>0.571429</td>\n",
       "      <td>2.0</td>\n",
       "      <td>7.0</td>\n",
       "      <td>4.0</td>\n",
       "      <td>0.0</td>\n",
       "      <td>0.0</td>\n",
       "      <td>-0.300000</td>\n",
       "      <td>0.400000</td>\n",
       "    </tr>\n",
       "    <tr>\n",
       "      <th>4</th>\n",
       "      <td>Can Strangers Match Couples</td>\n",
       "      <td>1</td>\n",
       "      <td>27.0</td>\n",
       "      <td>6.000000</td>\n",
       "      <td>0.250000</td>\n",
       "      <td>2.0</td>\n",
       "      <td>4.0</td>\n",
       "      <td>6.0</td>\n",
       "      <td>0.0</td>\n",
       "      <td>0.0</td>\n",
       "      <td>0.000000</td>\n",
       "      <td>0.000000</td>\n",
       "    </tr>\n",
       "  </tbody>\n",
       "</table>\n",
       "</div>"
      ],
      "text/plain": [
       "                                          Clickbaits  bait  Length  \\\n",
       "0             North Korea to rejoin six-nation talks     0    38.0   \n",
       "1  Watch This Out Gay Marine Ask Singer Steve Gra...     1    73.0   \n",
       "2           Protester says Japanese whalers shot him     0    40.0   \n",
       "3           At least twelve die in Mogadishu attacks     0    40.0   \n",
       "4                        Can Strangers Match Couples     1    27.0   \n",
       "\n",
       "   AvgWordLength  StoptoContent  Cardinality  WordCount  Verb  Auxiliary  \\\n",
       "0       5.500000       0.166667          1.0        6.0   1.0        0.0   \n",
       "1       4.285714       0.285714          1.0       14.0   2.0        0.0   \n",
       "2       5.833333       0.166667          1.0        6.0   4.0        0.0   \n",
       "3       4.857143       0.571429          2.0        7.0   4.0        0.0   \n",
       "4       6.000000       0.250000          2.0        4.0   6.0        0.0   \n",
       "\n",
       "   CoorConj  polarity  subjectivity  \n",
       "0       0.0  0.000000      0.000000  \n",
       "1       0.0  0.458333      0.791667  \n",
       "2       0.0  0.000000      0.000000  \n",
       "3       0.0 -0.300000      0.400000  \n",
       "4       0.0  0.000000      0.000000  "
      ]
     },
     "execution_count": 34,
     "metadata": {},
     "output_type": "execute_result"
    }
   ],
   "source": [
    "df.head()"
   ]
  },
  {
   "cell_type": "code",
   "execution_count": 35,
   "metadata": {},
   "outputs": [],
   "source": [
    "#Splitting the Data into Train and Test with 0.25 as test sets\n",
    "X_train,X_test,y_train,y_test=train_test_split(df.Clickbaits,df.bait,test_size=0.20,random_state=0)"
   ]
  },
  {
   "cell_type": "code",
   "execution_count": 36,
   "metadata": {},
   "outputs": [],
   "source": [
    "#Using the Tfid Vectorizer because the size of the dataset is Large\n",
    "vectorizer = TfidfVectorizer()\n",
    "tfidf_train_x = vectorizer.fit_transform(X_train)"
   ]
  },
  {
   "cell_type": "code",
   "execution_count": 37,
   "metadata": {},
   "outputs": [
    {
     "name": "stderr",
     "output_type": "stream",
     "text": [
      "/home/prajwol/anaconda3/lib/python3.6/site-packages/sklearn/linear_model/logistic.py:432: FutureWarning: Default solver will be changed to 'lbfgs' in 0.22. Specify a solver to silence this warning.\n",
      "  FutureWarning)\n"
     ]
    },
    {
     "data": {
      "text/plain": [
       "LogisticRegression(C=1.0, class_weight=None, dual=False, fit_intercept=True,\n",
       "                   intercept_scaling=1, l1_ratio=None, max_iter=100,\n",
       "                   multi_class='warn', n_jobs=None, penalty='l2',\n",
       "                   random_state=None, solver='warn', tol=0.0001, verbose=0,\n",
       "                   warm_start=False)"
      ]
     },
     "execution_count": 37,
     "metadata": {},
     "output_type": "execute_result"
    }
   ],
   "source": [
    "#Now using the Logistic Regression Algorithm\n",
    "classifier = LogisticRegression(penalty=\"l2\")\n",
    "classifier.fit(tfidf_train_x, y_train)"
   ]
  },
  {
   "cell_type": "code",
   "execution_count": 38,
   "metadata": {},
   "outputs": [
    {
     "name": "stdout",
     "output_type": "stream",
     "text": [
      "(6400, 20618)\n"
     ]
    },
    {
     "data": {
      "text/plain": [
       "<6400x20618 sparse matrix of type '<class 'numpy.float64'>'\n",
       "\twith 54569 stored elements in Compressed Sparse Row format>"
      ]
     },
     "execution_count": 38,
     "metadata": {},
     "output_type": "execute_result"
    }
   ],
   "source": [
    "#After transform the test data will be stored as a float in case of TFID\n",
    "tfidf_test_x = vectorizer.transform(X_test)\n",
    "print(tfidf_test_x.shape)\n",
    "tfidf_test_x"
   ]
  },
  {
   "cell_type": "code",
   "execution_count": 39,
   "metadata": {},
   "outputs": [],
   "source": [
    "predicted = classifier.predict(tfidf_test_x)"
   ]
  },
  {
   "cell_type": "code",
   "execution_count": 40,
   "metadata": {},
   "outputs": [
    {
     "name": "stdout",
     "output_type": "stream",
     "text": [
      "94.81249999999999\n"
     ]
    },
    {
     "name": "stderr",
     "output_type": "stream",
     "text": [
      "/home/prajwol/anaconda3/lib/python3.6/site-packages/sklearn/linear_model/logistic.py:432: FutureWarning: Default solver will be changed to 'lbfgs' in 0.22. Specify a solver to silence this warning.\n",
      "  FutureWarning)\n"
     ]
    }
   ],
   "source": [
    "#Finding the Accuracy Score for the Algorithm\n",
    "accuracy = cross_val_score(classifier, tfidf_test_x, y_test, cv=5)\n",
    "acc = accuracy.mean()\n",
    "print(acc * 100)"
   ]
  },
  {
   "cell_type": "code",
   "execution_count": 41,
   "metadata": {},
   "outputs": [
    {
     "name": "stdout",
     "output_type": "stream",
     "text": [
      "Accuracy: 0.969219\n",
      "Precision: 0.982222\n",
      "Recall: 0.956414\n",
      "F1 score: 0.969146\n",
      "ROC AUC: 0.969360\n",
      "[[3109   56]\n",
      " [ 141 3094]]\n"
     ]
    }
   ],
   "source": [
    "# accuracy: (tp + tn) / (p + n)\n",
    "accuracy = accuracy_score(y_test,predicted)\n",
    "print('Accuracy: %f' % accuracy)\n",
    "# precision tp / (tp + fp)\n",
    "precision = precision_score(y_test,predicted)\n",
    "print('Precision: %f' % precision)\n",
    "# recall: tp / (tp + fn)\n",
    "recall = recall_score(y_test,predicted)\n",
    "print('Recall: %f' % recall)\n",
    "# f1: 2 tp / (2 tp + fp + fn)\n",
    "f1 = f1_score(y_test,predicted)\n",
    "print('F1 score: %f' % f1)\n",
    "\n",
    "# ROC AUC\n",
    "auc = roc_auc_score(y_test,predicted)\n",
    "print('ROC AUC: %f' % auc)\n",
    "# confusion matrix\n",
    "matrix1 = confusion_matrix(y_test,predicted)\n",
    "print(matrix1)"
   ]
  },
  {
   "cell_type": "code",
   "execution_count": 42,
   "metadata": {},
   "outputs": [
    {
     "name": "stdout",
     "output_type": "stream",
     "text": [
      "Enter the sentence or phrase you want to validate: \n",
      "\n",
      "\n",
      "\n",
      "---------------------------------------------------------\n",
      "NOT a CLICKBAIT\n",
      "---------------------------------------------------------\n"
     ]
    }
   ],
   "source": [
    "#Enter anything to check its validity\n",
    "print(\"Enter the sentence or phrase you want to validate: \\n\\n\")\n",
    "inpPhrase = [input()]\n",
    "output = classifier.predict(vectorizer.transform(inpPhrase))\n",
    "print(\"---------------------------------------------------------\")\n",
    "if output == 1:\n",
    "    print(\"CLICKBAIT\")\n",
    "else:\n",
    "    print(\"NOT a CLICKBAIT\")\n",
    "print(\"---------------------------------------------------------\")"
   ]
  },
  {
   "cell_type": "code",
   "execution_count": 43,
   "metadata": {},
   "outputs": [
    {
     "name": "stdout",
     "output_type": "stream",
     "text": [
      "\n"
     ]
    },
    {
     "data": {
      "text/plain": [
       "0"
      ]
     },
     "execution_count": 43,
     "metadata": {},
     "output_type": "execute_result"
    }
   ],
   "source": [
    "# save the model to disk\n",
    "filename = 'finalVECTORmodel.sav'\n",
    "pickle.dump(classifier, open(filename, 'wb'))\n",
    "\n",
    "# some time later...\n",
    "inpPhrase = [input()]\n",
    "# load the model from disk\n",
    "loaded_model = pickle.load(open(filename, 'rb'))\n",
    "output = loaded_model.predict(vectorizer.transform(inpPhrase))\n",
    "# predicted = loaded_model.predict(tfidf_test_x)\n",
    "# classify = loaded_model.predict(\"get a chance to win $10,000 by clicking this link\")\n",
    "# accuracy = accuracy_score(y_test,result)\n",
    "# accuracy\n",
    "output[0]"
   ]
  },
  {
   "cell_type": "code",
   "execution_count": 44,
   "metadata": {},
   "outputs": [
    {
     "data": {
      "text/plain": [
       "0"
      ]
     },
     "execution_count": 44,
     "metadata": {},
     "output_type": "execute_result"
    }
   ],
   "source": [
    "predicted[0]"
   ]
  },
  {
   "cell_type": "code",
   "execution_count": 45,
   "metadata": {},
   "outputs": [
    {
     "data": {
      "image/png": "[encoded data removed]",
      "text/plain": [
       "<Figure size 432x288 with 2 Axes>"
      ]
     },
     "metadata": {
      "needs_background": "light"
     },
     "output_type": "display_data"
    }
   ],
   "source": [
    "import seaborn as sns\n",
    "\n",
    "ax= plt.subplot()\n",
    "fig = sns.heatmap(matrix1, annot=True, ax = ax); #annot=True to annotate cells\n",
    "\n",
    "# labels, title and ticks\n",
    "ax.set_xlabel('Predicted labels');ax.set_ylabel('True labels'); \n",
    "ax.set_title('Confusion Matrix from Vectorization'); \n",
    "ax.xaxis.set_ticklabels(['Non Clickbaits', 'Clickbaits'])\n",
    "ax.yaxis.set_ticklabels(['Non Clickbaits', 'Clickbaits'])\n",
    "fig = fig.get_figure()\n",
    "fig.savefig(\"ConfMatrix1.png\")"
   ]
  },
  {
   "cell_type": "code",
   "execution_count": 46,
   "metadata": {},
   "outputs": [
    {
     "data": {
      "text/html": [
       "<div>\n",
       "<style scoped>\n",
       "    .dataframe tbody tr th:only-of-type {\n",
       "        vertical-align: middle;\n",
       "    }\n",
       "\n",
       "    .dataframe tbody tr th {\n",
       "        vertical-align: top;\n",
       "    }\n",
       "\n",
       "    .dataframe thead th {\n",
       "        text-align: right;\n",
       "    }\n",
       "</style>\n",
       "<table border=\"1\" class=\"dataframe\">\n",
       "  <thead>\n",
       "    <tr style=\"text-align: right;\">\n",
       "      <th></th>\n",
       "      <th>Clickbaits</th>\n",
       "      <th>bait</th>\n",
       "      <th>Length</th>\n",
       "      <th>AvgWordLength</th>\n",
       "      <th>StoptoContent</th>\n",
       "      <th>Cardinality</th>\n",
       "      <th>WordCount</th>\n",
       "      <th>Verb</th>\n",
       "      <th>Auxiliary</th>\n",
       "      <th>CoorConj</th>\n",
       "      <th>polarity</th>\n",
       "      <th>subjectivity</th>\n",
       "    </tr>\n",
       "  </thead>\n",
       "  <tbody>\n",
       "    <tr>\n",
       "      <th>0</th>\n",
       "      <td>North Korea to rejoin six-nation talks</td>\n",
       "      <td>0</td>\n",
       "      <td>38.0</td>\n",
       "      <td>5.500000</td>\n",
       "      <td>0.166667</td>\n",
       "      <td>1.0</td>\n",
       "      <td>6.0</td>\n",
       "      <td>1.0</td>\n",
       "      <td>0.0</td>\n",
       "      <td>0.0</td>\n",
       "      <td>0.000000</td>\n",
       "      <td>0.000000</td>\n",
       "    </tr>\n",
       "    <tr>\n",
       "      <th>1</th>\n",
       "      <td>Watch This Out Gay Marine Ask Singer Steve Gra...</td>\n",
       "      <td>1</td>\n",
       "      <td>73.0</td>\n",
       "      <td>4.285714</td>\n",
       "      <td>0.285714</td>\n",
       "      <td>1.0</td>\n",
       "      <td>14.0</td>\n",
       "      <td>2.0</td>\n",
       "      <td>0.0</td>\n",
       "      <td>0.0</td>\n",
       "      <td>0.458333</td>\n",
       "      <td>0.791667</td>\n",
       "    </tr>\n",
       "    <tr>\n",
       "      <th>2</th>\n",
       "      <td>Protester says Japanese whalers shot him</td>\n",
       "      <td>0</td>\n",
       "      <td>40.0</td>\n",
       "      <td>5.833333</td>\n",
       "      <td>0.166667</td>\n",
       "      <td>1.0</td>\n",
       "      <td>6.0</td>\n",
       "      <td>4.0</td>\n",
       "      <td>0.0</td>\n",
       "      <td>0.0</td>\n",
       "      <td>0.000000</td>\n",
       "      <td>0.000000</td>\n",
       "    </tr>\n",
       "    <tr>\n",
       "      <th>3</th>\n",
       "      <td>At least twelve die in Mogadishu attacks</td>\n",
       "      <td>0</td>\n",
       "      <td>40.0</td>\n",
       "      <td>4.857143</td>\n",
       "      <td>0.571429</td>\n",
       "      <td>2.0</td>\n",
       "      <td>7.0</td>\n",
       "      <td>4.0</td>\n",
       "      <td>0.0</td>\n",
       "      <td>0.0</td>\n",
       "      <td>-0.300000</td>\n",
       "      <td>0.400000</td>\n",
       "    </tr>\n",
       "    <tr>\n",
       "      <th>4</th>\n",
       "      <td>Can Strangers Match Couples</td>\n",
       "      <td>1</td>\n",
       "      <td>27.0</td>\n",
       "      <td>6.000000</td>\n",
       "      <td>0.250000</td>\n",
       "      <td>2.0</td>\n",
       "      <td>4.0</td>\n",
       "      <td>6.0</td>\n",
       "      <td>0.0</td>\n",
       "      <td>0.0</td>\n",
       "      <td>0.000000</td>\n",
       "      <td>0.000000</td>\n",
       "    </tr>\n",
       "    <tr>\n",
       "      <th>5</th>\n",
       "      <td>You Probably Qualify To Be An Astronaut And Do...</td>\n",
       "      <td>1</td>\n",
       "      <td>62.0</td>\n",
       "      <td>4.250000</td>\n",
       "      <td>0.583333</td>\n",
       "      <td>2.0</td>\n",
       "      <td>12.0</td>\n",
       "      <td>8.0</td>\n",
       "      <td>2.0</td>\n",
       "      <td>1.0</td>\n",
       "      <td>0.000000</td>\n",
       "      <td>0.000000</td>\n",
       "    </tr>\n",
       "    <tr>\n",
       "      <th>6</th>\n",
       "      <td>15 Questions The World Has For Black Friday</td>\n",
       "      <td>1</td>\n",
       "      <td>43.0</td>\n",
       "      <td>4.500000</td>\n",
       "      <td>0.375000</td>\n",
       "      <td>3.0</td>\n",
       "      <td>8.0</td>\n",
       "      <td>8.0</td>\n",
       "      <td>3.0</td>\n",
       "      <td>1.0</td>\n",
       "      <td>-0.166667</td>\n",
       "      <td>0.433333</td>\n",
       "    </tr>\n",
       "    <tr>\n",
       "      <th>7</th>\n",
       "      <td>Nigerian ex-governor James Ibori arrested in D...</td>\n",
       "      <td>0</td>\n",
       "      <td>50.0</td>\n",
       "      <td>6.285714</td>\n",
       "      <td>0.142857</td>\n",
       "      <td>3.0</td>\n",
       "      <td>7.0</td>\n",
       "      <td>9.0</td>\n",
       "      <td>3.0</td>\n",
       "      <td>1.0</td>\n",
       "      <td>0.000000</td>\n",
       "      <td>0.000000</td>\n",
       "    </tr>\n",
       "    <tr>\n",
       "      <th>8</th>\n",
       "      <td>If \"Harry Potter\" Characters Were In \"Game Of ...</td>\n",
       "      <td>1</td>\n",
       "      <td>54.0</td>\n",
       "      <td>5.111111</td>\n",
       "      <td>0.444444</td>\n",
       "      <td>3.0</td>\n",
       "      <td>9.0</td>\n",
       "      <td>9.0</td>\n",
       "      <td>4.0</td>\n",
       "      <td>1.0</td>\n",
       "      <td>-0.400000</td>\n",
       "      <td>0.400000</td>\n",
       "    </tr>\n",
       "    <tr>\n",
       "      <th>9</th>\n",
       "      <td>This Woman's Insanely Magical Instagram Will M...</td>\n",
       "      <td>1</td>\n",
       "      <td>74.0</td>\n",
       "      <td>5.250000</td>\n",
       "      <td>0.416667</td>\n",
       "      <td>3.0</td>\n",
       "      <td>12.0</td>\n",
       "      <td>12.0</td>\n",
       "      <td>4.0</td>\n",
       "      <td>1.0</td>\n",
       "      <td>0.400000</td>\n",
       "      <td>0.550000</td>\n",
       "    </tr>\n",
       "  </tbody>\n",
       "</table>\n",
       "</div>"
      ],
      "text/plain": [
       "                                          Clickbaits  bait  Length  \\\n",
       "0             North Korea to rejoin six-nation talks     0    38.0   \n",
       "1  Watch This Out Gay Marine Ask Singer Steve Gra...     1    73.0   \n",
       "2           Protester says Japanese whalers shot him     0    40.0   \n",
       "3           At least twelve die in Mogadishu attacks     0    40.0   \n",
       "4                        Can Strangers Match Couples     1    27.0   \n",
       "5  You Probably Qualify To Be An Astronaut And Do...     1    62.0   \n",
       "6        15 Questions The World Has For Black Friday     1    43.0   \n",
       "7  Nigerian ex-governor James Ibori arrested in D...     0    50.0   \n",
       "8  If \"Harry Potter\" Characters Were In \"Game Of ...     1    54.0   \n",
       "9  This Woman's Insanely Magical Instagram Will M...     1    74.0   \n",
       "\n",
       "   AvgWordLength  StoptoContent  Cardinality  WordCount  Verb  Auxiliary  \\\n",
       "0       5.500000       0.166667          1.0        6.0   1.0        0.0   \n",
       "1       4.285714       0.285714          1.0       14.0   2.0        0.0   \n",
       "2       5.833333       0.166667          1.0        6.0   4.0        0.0   \n",
       "3       4.857143       0.571429          2.0        7.0   4.0        0.0   \n",
       "4       6.000000       0.250000          2.0        4.0   6.0        0.0   \n",
       "5       4.250000       0.583333          2.0       12.0   8.0        2.0   \n",
       "6       4.500000       0.375000          3.0        8.0   8.0        3.0   \n",
       "7       6.285714       0.142857          3.0        7.0   9.0        3.0   \n",
       "8       5.111111       0.444444          3.0        9.0   9.0        4.0   \n",
       "9       5.250000       0.416667          3.0       12.0  12.0        4.0   \n",
       "\n",
       "   CoorConj  polarity  subjectivity  \n",
       "0       0.0  0.000000      0.000000  \n",
       "1       0.0  0.458333      0.791667  \n",
       "2       0.0  0.000000      0.000000  \n",
       "3       0.0 -0.300000      0.400000  \n",
       "4       0.0  0.000000      0.000000  \n",
       "5       1.0  0.000000      0.000000  \n",
       "6       1.0 -0.166667      0.433333  \n",
       "7       1.0  0.000000      0.000000  \n",
       "8       1.0 -0.400000      0.400000  \n",
       "9       1.0  0.400000      0.550000  "
      ]
     },
     "execution_count": 46,
     "metadata": {},
     "output_type": "execute_result"
    }
   ],
   "source": [
    "df.head(10)"
   ]
  },
  {
   "cell_type": "markdown",
   "metadata": {},
   "source": [
    "## Training Data"
   ]
  },
  {
   "cell_type": "code",
   "execution_count": 47,
   "metadata": {},
   "outputs": [],
   "source": [
    "X = df.drop([\"Clickbaits\",\"bait\"],axis=1)\n",
    "y = df.bait"
   ]
  },
  {
   "cell_type": "code",
   "execution_count": 48,
   "metadata": {},
   "outputs": [],
   "source": [
    "#Splitting the Data into Train and Test with 0.25 as test sets\n",
    "X_train,X_test,y_train,y_test=train_test_split(X,y,test_size=0.20,random_state=0)"
   ]
  },
  {
   "cell_type": "code",
   "execution_count": 49,
   "metadata": {},
   "outputs": [],
   "source": [
    "logmodel = LogisticRegression(penalty=\"l2\")"
   ]
  },
  {
   "cell_type": "code",
   "execution_count": 50,
   "metadata": {},
   "outputs": [
    {
     "name": "stderr",
     "output_type": "stream",
     "text": [
      "/home/prajwol/anaconda3/lib/python3.6/site-packages/sklearn/linear_model/logistic.py:432: FutureWarning: Default solver will be changed to 'lbfgs' in 0.22. Specify a solver to silence this warning.\n",
      "  FutureWarning)\n"
     ]
    },
    {
     "data": {
      "text/plain": [
       "LogisticRegression(C=1.0, class_weight=None, dual=False, fit_intercept=True,\n",
       "                   intercept_scaling=1, l1_ratio=None, max_iter=100,\n",
       "                   multi_class='warn', n_jobs=None, penalty='l2',\n",
       "                   random_state=None, solver='warn', tol=0.0001, verbose=0,\n",
       "                   warm_start=False)"
      ]
     },
     "execution_count": 50,
     "metadata": {},
     "output_type": "execute_result"
    }
   ],
   "source": [
    "logmodel.fit(X_train,y_train)"
   ]
  },
  {
   "cell_type": "code",
   "execution_count": 51,
   "metadata": {},
   "outputs": [],
   "source": [
    "predicted = logmodel.predict(X_test)"
   ]
  },
  {
   "cell_type": "code",
   "execution_count": 52,
   "metadata": {},
   "outputs": [
    {
     "data": {
      "text/plain": [
       "'              precision    recall  f1-score   support\\n\\n           0       0.79      0.79      0.79      3165\\n           1       0.80      0.79      0.79      3235\\n\\n    accuracy                           0.79      6400\\n   macro avg       0.79      0.79      0.79      6400\\nweighted avg       0.79      0.79      0.79      6400\\n'"
      ]
     },
     "execution_count": 52,
     "metadata": {},
     "output_type": "execute_result"
    }
   ],
   "source": [
    "classification_report(y_test,predicted)"
   ]
  },
  {
   "cell_type": "code",
   "execution_count": 53,
   "metadata": {},
   "outputs": [
    {
     "name": "stdout",
     "output_type": "stream",
     "text": [
      "Accuracy: 0.792813\n",
      "Precision: 0.795969\n",
      "Recall: 0.793509\n",
      "F1 score: 0.794737\n",
      "ROC AUC: 0.792805\n",
      "[[2507  658]\n",
      " [ 668 2567]]\n"
     ]
    }
   ],
   "source": [
    "# accuracy: (tp + tn) / (p + n)\n",
    "accuracy = accuracy_score(y_test,predicted)\n",
    "print('Accuracy: %f' % accuracy)\n",
    "# precision tp / (tp + fp)\n",
    "precision = precision_score(y_test,predicted)\n",
    "print('Precision: %f' % precision)\n",
    "# recall: tp / (tp + fn)\n",
    "recall = recall_score(y_test,predicted)\n",
    "print('Recall: %f' % recall)\n",
    "# f1: 2 tp / (2 tp + fp + fn)\n",
    "f1 = f1_score(y_test,predicted)\n",
    "print('F1 score: %f' % f1)\n",
    "\n",
    "# ROC AUC\n",
    "auc = roc_auc_score(y_test,predicted)\n",
    "print('ROC AUC: %f' % auc)\n",
    "# confusion matrix\n",
    "matrix2 = confusion_matrix(y_test,predicted)\n",
    "print(matrix2)"
   ]
  },
  {
   "cell_type": "code",
   "execution_count": 54,
   "metadata": {},
   "outputs": [
    {
     "data": {
      "image/png": "[encoded data removed]",
      "text/plain": [
       "<Figure size 432x288 with 2 Axes>"
      ]
     },
     "metadata": {
      "needs_background": "light"
     },
     "output_type": "display_data"
    }
   ],
   "source": [
    "import seaborn as sns\n",
    "\n",
    "ax= plt.subplot()\n",
    "fig = sns.heatmap(matrix2, annot=True, ax = ax); #annot=True to annotate cells\n",
    "\n",
    "# labels, title and ticks\n",
    "ax.set_xlabel('Predicted labels');ax.set_ylabel('True labels'); \n",
    "ax.set_title('Confusion Matrix from features Extraction'); \n",
    "ax.xaxis.set_ticklabels(['Non Clickbaits', 'Clickbaits'])\n",
    "ax.yaxis.set_ticklabels(['Non Clickbaits', 'Clickbaits'])\n",
    "fig = fig.get_figure()\n",
    "fig.savefig(\"ConfMatrix2.png\")"
   ]
  },
  {
   "cell_type": "code",
   "execution_count": 55,
   "metadata": {},
   "outputs": [
    {
     "data": {
      "text/plain": [
       "0.7928125"
      ]
     },
     "execution_count": 55,
     "metadata": {},
     "output_type": "execute_result"
    }
   ],
   "source": [
    "accuracy_score(y_test,predicted)"
   ]
  },
  {
   "cell_type": "code",
   "execution_count": 56,
   "metadata": {},
   "outputs": [
    {
     "name": "stdout",
     "output_type": "stream",
     "text": [
      "0.7928125\n"
     ]
    }
   ],
   "source": [
    "# save the model to disk\n",
    "filename = 'finalFEATUREmodel.sav'\n",
    "pickle.dump(logmodel, open(filename, 'wb'))\n",
    "\n",
    "# some time later...\n",
    "\n",
    "# load the model from disk\n",
    "loaded_model = pickle.load(open(filename, 'rb'))\n",
    "result = loaded_model.score(X_test, y_test)\n",
    "# classify = loaded_model.predict(\"get a chance to win $10,000 by clicking this link\")\n",
    "print(result)"
   ]
  },
  {
   "cell_type": "code",
   "execution_count": 57,
   "metadata": {},
   "outputs": [
    {
     "data": {
      "text/html": [
       "<div>\n",
       "<style scoped>\n",
       "    .dataframe tbody tr th:only-of-type {\n",
       "        vertical-align: middle;\n",
       "    }\n",
       "\n",
       "    .dataframe tbody tr th {\n",
       "        vertical-align: top;\n",
       "    }\n",
       "\n",
       "    .dataframe thead th {\n",
       "        text-align: right;\n",
       "    }\n",
       "</style>\n",
       "<table border=\"1\" class=\"dataframe\">\n",
       "  <thead>\n",
       "    <tr style=\"text-align: right;\">\n",
       "      <th></th>\n",
       "      <th>Length</th>\n",
       "      <th>AvgWordLength</th>\n",
       "      <th>StoptoContent</th>\n",
       "      <th>Cardinality</th>\n",
       "      <th>WordCount</th>\n",
       "      <th>Verb</th>\n",
       "      <th>Auxiliary</th>\n",
       "      <th>CoorConj</th>\n",
       "      <th>polarity</th>\n",
       "      <th>subjectivity</th>\n",
       "    </tr>\n",
       "  </thead>\n",
       "  <tbody>\n",
       "    <tr>\n",
       "      <th>31330</th>\n",
       "      <td>53.0</td>\n",
       "      <td>5.000000</td>\n",
       "      <td>0.111111</td>\n",
       "      <td>12091.0</td>\n",
       "      <td>9.0</td>\n",
       "      <td>37966.0</td>\n",
       "      <td>10381.0</td>\n",
       "      <td>3577.0</td>\n",
       "      <td>0.000000</td>\n",
       "      <td>0.000000</td>\n",
       "    </tr>\n",
       "    <tr>\n",
       "      <th>3514</th>\n",
       "      <td>61.0</td>\n",
       "      <td>3.428571</td>\n",
       "      <td>0.642857</td>\n",
       "      <td>1388.0</td>\n",
       "      <td>14.0</td>\n",
       "      <td>4293.0</td>\n",
       "      <td>1159.0</td>\n",
       "      <td>408.0</td>\n",
       "      <td>0.100000</td>\n",
       "      <td>0.300000</td>\n",
       "    </tr>\n",
       "    <tr>\n",
       "      <th>12363</th>\n",
       "      <td>77.0</td>\n",
       "      <td>4.200000</td>\n",
       "      <td>0.600000</td>\n",
       "      <td>4786.0</td>\n",
       "      <td>15.0</td>\n",
       "      <td>15021.0</td>\n",
       "      <td>4089.0</td>\n",
       "      <td>1366.0</td>\n",
       "      <td>-0.433333</td>\n",
       "      <td>0.416667</td>\n",
       "    </tr>\n",
       "    <tr>\n",
       "      <th>25927</th>\n",
       "      <td>79.0</td>\n",
       "      <td>5.666667</td>\n",
       "      <td>0.250000</td>\n",
       "      <td>10002.0</td>\n",
       "      <td>12.0</td>\n",
       "      <td>31325.0</td>\n",
       "      <td>8624.0</td>\n",
       "      <td>2922.0</td>\n",
       "      <td>0.333333</td>\n",
       "      <td>0.766667</td>\n",
       "    </tr>\n",
       "    <tr>\n",
       "      <th>31886</th>\n",
       "      <td>66.0</td>\n",
       "      <td>4.583333</td>\n",
       "      <td>0.416667</td>\n",
       "      <td>12308.0</td>\n",
       "      <td>12.0</td>\n",
       "      <td>38653.0</td>\n",
       "      <td>10583.0</td>\n",
       "      <td>3650.0</td>\n",
       "      <td>0.000000</td>\n",
       "      <td>0.700000</td>\n",
       "    </tr>\n",
       "  </tbody>\n",
       "</table>\n",
       "</div>"
      ],
      "text/plain": [
       "       Length  AvgWordLength  StoptoContent  Cardinality  WordCount     Verb  \\\n",
       "31330    53.0       5.000000       0.111111      12091.0        9.0  37966.0   \n",
       "3514     61.0       3.428571       0.642857       1388.0       14.0   4293.0   \n",
       "12363    77.0       4.200000       0.600000       4786.0       15.0  15021.0   \n",
       "25927    79.0       5.666667       0.250000      10002.0       12.0  31325.0   \n",
       "31886    66.0       4.583333       0.416667      12308.0       12.0  38653.0   \n",
       "\n",
       "       Auxiliary  CoorConj  polarity  subjectivity  \n",
       "31330    10381.0    3577.0  0.000000      0.000000  \n",
       "3514      1159.0     408.0  0.100000      0.300000  \n",
       "12363     4089.0    1366.0 -0.433333      0.416667  \n",
       "25927     8624.0    2922.0  0.333333      0.766667  \n",
       "31886    10583.0    3650.0  0.000000      0.700000  "
      ]
     },
     "execution_count": 57,
     "metadata": {},
     "output_type": "execute_result"
    }
   ],
   "source": [
    "X_test.head()"
   ]
  },
  {
   "cell_type": "code",
   "execution_count": 58,
   "metadata": {},
   "outputs": [
    {
     "data": {
      "text/plain": [
       "\"This Woman's Insanely Magical Instagram Will Make You Smile Every Damn Day\""
      ]
     },
     "execution_count": 58,
     "metadata": {},
     "output_type": "execute_result"
    }
   ],
   "source": [
    "df[\"Clickbaits\"][9]"
   ]
  },
  {
   "cell_type": "code",
   "execution_count": null,
   "metadata": {},
   "outputs": [],
   "source": []
  },
  {
   "cell_type": "code",
   "execution_count": null,
   "metadata": {},
   "outputs": [],
   "source": []
  },
  {
   "cell_type": "code",
   "execution_count": null,
   "metadata": {},
   "outputs": [],
   "source": []
  }
 ],
 "metadata": {
  "kernelspec": {
   "display_name": "Python 3",
   "language": "python",
   "name": "python3"
  },
  "language_info": {
   "codemirror_mode": {
    "name": "ipython",
    "version": 3
   },
   "file_extension": ".py",
   "mimetype": "text/x-python",
   "name": "python",
   "nbconvert_exporter": "python",
   "pygments_lexer": "ipython3",
   "version": "3.6.8"
  }
 },
 "nbformat": 4,
 "nbformat_minor": 2
}
