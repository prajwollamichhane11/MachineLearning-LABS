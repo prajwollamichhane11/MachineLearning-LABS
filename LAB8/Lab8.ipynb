{
  "nbformat": 4,
  "nbformat_minor": 0,
  "metadata": {
    "colab": {
      "name": "Lab8_Pratik_Rajbhandari_CE.ipynb",
      "provenance": [],
      "collapsed_sections": []
    },
    "kernelspec": {
      "name": "python3",
      "display_name": "Python 3"
    }
  },
  "cells": [
    {
      "cell_type": "markdown",
      "metadata": {
        "id": "4SH-ZuzuEPOq",
        "colab_type": "text"
      },
      "source": [
        "# Building a perceptron-based linear regressor"
      ]
    },
    {
      "cell_type": "code",
      "metadata": {
        "id": "lKzffsLpERYT",
        "colab_type": "code",
        "colab": {}
      },
      "source": [
        "import numpy as np\n",
        "import matplotlib.pyplot as plt\n",
        "import tensorflow as tf\n",
        "\n",
        "num_points = 1200\n",
        "\n",
        "data = []\n",
        "m = 0.2\n",
        "c = 0.5\n",
        "for i in range(num_points):\n",
        "  x = np.random.normal(0.0, 0.8)\n",
        "\n",
        "noise = np.random.normal(0.0, 0.04)\n",
        "\n",
        "y = m*x + c + noise\n",
        "data.append([x, y])\n",
        "\n",
        "x_data = [d[0] for d in data]\n",
        "y_data = [d[1] for d in data]\n",
        "\n",
        "plt.plot(x_data, y_data, 'ro')\n",
        "plt.title('Input data')\n",
        "plt.show()\n",
        "\n",
        "W = tf.Variable(tf.random_uniform([1], -1.0, 1.0))\n",
        "b = tf.Variable(tf.zeros([1]))\n",
        "\n",
        "y = W * x_data + b\n",
        "loss = tf.reduce_mean(tf.square(y - y_data))\n",
        "\n",
        "optimizer = tf.train.GradientDescentOptimizer(0.5)\n",
        "train = optimizer.minimize(loss)\n",
        "\n",
        "init = tf.initialize_all_variables()\n",
        "\n",
        "sess = tf.Session()\n",
        "sess.run(init)\n",
        "\n",
        "num_iterations = 10\n",
        "for step in range(num_iterations):\n",
        "  sess.run(train)\n",
        "\n",
        "print('\\nITERATION', step+1)\n",
        "print('W =', sess.run(W)[0])\n",
        "print('b =', sess.run(b)[0])\n",
        "print('loss =', sess.run(loss))\n",
        "\n",
        "\n",
        "plt.plot(x_data, y_data, 'ro')\n",
        "plt.plot(x_data, sess.run(W) * x_data + sess.run(b))\n",
        "plt.xlabel('Dimension 0')\n",
        "plt.ylabel('Dimension 1')\n",
        "plt.title('Iteration ' + str(step+1) + ' of ' + str(num_iterations))\n",
        "plt.show()"
      ],
      "execution_count": 0,
      "outputs": []
    },
    {
      "cell_type": "markdown",
      "metadata": {
        "id": "FY4zjP6RFjsa",
        "colab_type": "text"
      },
      "source": [
        "# Building an image classifier using a single layer neural network"
      ]
    },
    {
      "cell_type": "code",
      "metadata": {
        "id": "I8Vt-kkdEhTe",
        "colab_type": "code",
        "colab": {}
      },
      "source": [
        "import argparse\n",
        "import tensorflow as tf\n",
        "from tensorflow.examples.tutorials.mnist import input_data\n",
        "\n",
        "def build_arg_parser():\n",
        "  parser = argparse.ArgumentParser(description='Build a classifier using\\MNIST data')\n",
        "  parser.add_argument('--input-dir', dest='input_dir', type=str, default='./mnist_data', help='Directory for storing data')\n",
        "  return parser\n",
        "\n",
        "if __name__ == '__main__':\n",
        "  args = build_arg_parser().parse_args()\n",
        "\n",
        "  mnist = input_data.read_data_sets(args.input_dir, one_hot=True)\n",
        "  \n",
        "  x = tf.placeholder(tf.float32, [None, 784])\n",
        "  \n",
        "  W = tf.Variable(tf.zeros([784, 10]))\n",
        "  b = tf.Variable(tf.zeros([10]))\n",
        "  \n",
        "  y = tf.matmul(x, W) + b\n",
        "  y_loss = tf.placeholder(tf.float32, [None, 10])\n",
        "  loss = tf.reduce_mean(tf.nn.softmax_cross_entropy_with_logits(y, y_loss))\n",
        "  optimizer = tf.train.GradientDescentOptimizer(0.5).minimize(loss)\n",
        "  \n",
        "  init = tf.initialize_all_variables()\n",
        "  session = tf.Session()\n",
        "  session.run(init)\n",
        "  num_iterations = 1200\n",
        "  batch_size = 90\n",
        "  for _ in range(num_iterations):\n",
        "    x_batch, y_batch = mnist.train.next_batch(batch_size)\n",
        "    session.run(optimizer, feed_dict = {x: x_batch, y_loss: y_batch})\n",
        "  predicted = tf.equal(tf.argmax(y, 1), tf.argmax(y_loss, 1))\n",
        "  accuracy = tf.reduce_mean(tf.cast(predicted, tf.float32))\n",
        "  print('\\nAccuracy =', session.run(accuracy, feed_dict = {x: mnist.test.images, y_loss: mnist.test.labels}))"
      ],
      "execution_count": 0,
      "outputs": []
    },
    {
      "cell_type": "markdown",
      "metadata": {
        "id": "fObC7xwaGYyD",
        "colab_type": "text"
      },
      "source": [
        "# Building an image classifier using a Convolutional Neural Network"
      ]
    },
    {
      "cell_type": "code",
      "metadata": {
        "id": "NokPJ_sUGSRx",
        "colab_type": "code",
        "colab": {}
      },
      "source": [
        "import argparse\n",
        "import tensorflow as tf\n",
        "from tensorflow.examples.tutorials.mnist import input_data\n",
        "\n",
        "\n",
        "def build_arg_parser():\n",
        "  parser = argparse.ArgumentParser(description='Build a CNN classifier using \\MNIST data')\n",
        "  parser.add_argument('--input-dir', dest='input_dir', type=str, default='./mnist_data', help='Directory for storing data')\n",
        "  return parser\n",
        "\n",
        "def get_weights(shape):\n",
        "  data = tf.truncated_normal(shape, stddev=0.1)\n",
        "  return tf.Variable(data)\n",
        "\n",
        "def get_biases(shape):\n",
        "  data = tf.constant(0.1, shape=shape)\n",
        "  return tf.Variable(data)\n",
        "\n",
        "def create_layer(shape):\n",
        "  W = get_weights(shape)\n",
        "  b = get_biases([shape[-1]])\n",
        "  return W, b\n",
        "\n",
        "def convolution_2d(x, W):\n",
        "  return tf.nn.conv2d(x, W, strides=[1, 1, 1, 1], padding='SAME')\n",
        "\n",
        "def max_pooling(x):\n",
        "  return tf.nn.max_pool(x, ksize=[1, 2, 2, 1], strides=[1, 2, 2, 1], padding='SAME')\n",
        "\n",
        "if __name__ == '__main__':\n",
        "  args = build_arg_parser().parse_args()\n",
        "  mnist = input_data.read_data_sets(args.input_dir, one_hot=True)\n",
        "  x = tf.placeholder(tf.float32, [None, 784])\n",
        "  x_image = tf.reshape(x, [-1, 28, 28, 1])\n",
        "  W_conv1, b_conv1 = create_layer([5, 5, 1, 32])\n",
        "  h_conv1 = tf.nn.relu(convolution_2d(x_image, W_conv1) + b_conv1)\n",
        "  h_pool1 = max_pooling(h_conv1)\n",
        "  W_conv2, b_conv2 = create_layer([5, 5, 32, 64])\n",
        "  h_conv2 = tf.nn.relu(convolution_2d(h_pool1, W_conv2) + b_conv2)\n",
        "  h_pool2 = max_pooling(h_conv2)\n",
        "  W_fc1, b_fc1 = create_layer([7 * 7 * 64, 1024])\n",
        "  h_pool2_flat = tf.reshape(h_pool2, [-1, 7*7*64])\n",
        "  h_fc1 = tf.nn.relu(tf.matmul(h_pool2_flat, W_fc1) + b_fc1)\n",
        "  keep_prob = tf.placeholder(tf.float32)\n",
        "  h_fc1_drop = tf.nn.dropout(h_fc1, keep_prob)\n",
        "  W_fc2, b_fc2 = create_layer([1024, 10])\n",
        "  y_conv = tf.matmul(h_fc1_drop, W_fc2) + b_fc2\n",
        "  y_loss = tf.placeholder(tf.float32, [None, 10])\n",
        "  loss = tf.reduce_mean(tf.nn.softmax_cross_entropy_with_logits(y_conv, y_loss))\n",
        "  optimizer = tf.train.AdamOptimizer(1e-4).minimize(loss)\n",
        "  predicted = tf.equal(tf.argmax(y_conv, 1), tf.argmax(y_loss, 1))\n",
        "  accuracy = tf.reduce_mean(tf.cast(predicted, tf.float32))\n",
        "  sess = tf.InteractiveSession()\n",
        "  init = tf.initialize_all_variables()\n",
        "  sess.run(init)\n",
        "  num_iterations = 21000\n",
        "  batch_size = 75\n",
        "  print('\\nTraining the model....')\n",
        "  for i in range(num_iterations):\n",
        "    batch = mnist.train.next_batch(batch_size)\n",
        "    if i % 50 == 0:\n",
        "      cur_accuracy = accuracy.eval(feed_dict = {x: batch[0], y_loss: batch[1], keep_prob: 1.0})\n",
        "      print('Iteration', i, ', Accuracy =', cur_accuracy)\n",
        "  optimizer.run(feed_dict = {x: batch[0], y_loss: batch[1], keep_prob: 0.5})\n",
        "  print('Test accuracy =', accuracy.eval(feed_dict = {x: mnist.test.images, y_loss: mnist.test.labels, keep_prob: 1.0}))\n"
      ],
      "execution_count": 0,
      "outputs": []
    },
    {
      "cell_type": "markdown",
      "metadata": {
        "id": "Mn_txpzwHmyT",
        "colab_type": "text"
      },
      "source": [
        "# CNN on CIFAR10 Dataset"
      ]
    },
    {
      "cell_type": "code",
      "metadata": {
        "id": "C1W6lioUHKnL",
        "colab_type": "code",
        "colab": {
          "base_uri": "https://localhost:8080/",
          "height": 598
        },
        "outputId": "26d68cb5-de9f-4b93-d209-1acd28cc2fd8"
      },
      "source": [
        "import keras\n",
        "from keras.models import Sequential\n",
        "from keras.datasets import cifar10\n",
        "from keras.layers import Dense, Activation, Flatten\n",
        "from keras.optimizers import Adadelta\n",
        "from keras.utils import np_utils\n",
        "from keras.layers.convolutional import Convolution2D, MaxPooling2D\n",
        "from keras.utils.vis_utils import model_to_dot, plot_model\n",
        "from keras import backend as K\n",
        "import numpy as np\n",
        "from IPython.display import SVG\n",
        "from matplotlib import pyplot as plt\n",
        "import matplotlib.image as mpimg\n",
        "%matplotlib inline\n",
        "np.random.seed(2017)\n",
        "batch_size = 256\n",
        "nb_classes = 10\n",
        "nb_epoch = 4\n",
        "nb_filter = 10\n",
        "nb_conv = 3\n",
        "nb_pool = 2\n",
        "img_rows, img_cols = 32, 32\n",
        "img_channels = 3\n",
        "\n",
        "if K.image_data_format() == 'th':\n",
        " input_shape = (3, img_rows, img_cols)\n",
        "else:\n",
        " input_shape = (img_rows, img_cols, 3)\n",
        "(X_train, y_train), (X_test, y_test) = cifar10.load_data()\n",
        "print('X_train shape:', X_train.shape)\n",
        "print(X_train.shape[0], 'train samples')\n",
        "print(X_test.shape[0], 'test samples')\n",
        "X_train = X_train.astype('float32')\n",
        "X_test = X_test.astype('float32')\n",
        "X_train /= 255\n",
        "X_test /= 255\n",
        "Y_train = np_utils.to_categorical(y_train, nb_classes)\n",
        "Y_test = np_utils.to_categorical(y_test, nb_classes)\n",
        "\n",
        "feature_layers = [Convolution2D(nb_filter, nb_conv, nb_conv, input_shape=input_shape),\n",
        " Activation('relu'),\n",
        " Convolution2D(nb_filter, nb_conv, nb_conv),\n",
        " Activation('relu'),\n",
        " MaxPooling2D(pool_size=(nb_pool, nb_pool)),\n",
        " Flatten(),]\n",
        "classification_layers = [\n",
        " Dense(512),\n",
        " Activation('relu'),\n",
        " Dense(nb_classes),\n",
        " Activation('softmax')]\n",
        "\n",
        "model = Sequential(feature_layers + classification_layers)\n",
        "model.compile(loss='categorical_crossentropy', optimizer=\"adadelta\",\n",
        "metrics=['accuracy'])\n",
        "# print(model.summary())\n",
        "\n",
        "model.fit(X_train, Y_train, batch_size=batch_size, nb_epoch=nb_epoch,validation_data=(X_test, Y_test))"
      ],
      "execution_count": 25,
      "outputs": [
        {
          "output_type": "stream",
          "text": [
            "X_train shape: (50000, 32, 32, 3)\n",
            "50000 train samples\n",
            "10000 test samples\n",
            "WARNING:tensorflow:From /usr/local/lib/python3.6/dist-packages/tensorflow_core/python/ops/math_grad.py:1424: where (from tensorflow.python.ops.array_ops) is deprecated and will be removed in a future version.\n",
            "Instructions for updating:\n",
            "Use tf.where in 2.0, which has the same broadcast rule as np.where\n"
          ],
          "name": "stdout"
        },
        {
          "output_type": "stream",
          "text": [
            "/usr/local/lib/python3.6/dist-packages/ipykernel_launcher.py:40: UserWarning: Update your `Conv2D` call to the Keras 2 API: `Conv2D(10, (3, 3), input_shape=(32, 32, 3...)`\n",
            "/usr/local/lib/python3.6/dist-packages/ipykernel_launcher.py:42: UserWarning: Update your `Conv2D` call to the Keras 2 API: `Conv2D(10, (3, 3))`\n",
            "/usr/local/lib/python3.6/dist-packages/ipykernel_launcher.py:57: UserWarning: The `nb_epoch` argument in `fit` has been renamed `epochs`.\n"
          ],
          "name": "stderr"
        },
        {
          "output_type": "stream",
          "text": [
            "WARNING:tensorflow:From /usr/local/lib/python3.6/dist-packages/keras/backend/tensorflow_backend.py:1033: The name tf.assign_add is deprecated. Please use tf.compat.v1.assign_add instead.\n",
            "\n",
            "WARNING:tensorflow:From /usr/local/lib/python3.6/dist-packages/keras/backend/tensorflow_backend.py:1020: The name tf.assign is deprecated. Please use tf.compat.v1.assign instead.\n",
            "\n",
            "Train on 50000 samples, validate on 10000 samples\n",
            "Epoch 1/4\n",
            "WARNING:tensorflow:From /usr/local/lib/python3.6/dist-packages/keras/backend/tensorflow_backend.py:190: The name tf.get_default_session is deprecated. Please use tf.compat.v1.get_default_session instead.\n",
            "\n",
            "WARNING:tensorflow:From /usr/local/lib/python3.6/dist-packages/keras/backend/tensorflow_backend.py:197: The name tf.ConfigProto is deprecated. Please use tf.compat.v1.ConfigProto instead.\n",
            "\n",
            "WARNING:tensorflow:From /usr/local/lib/python3.6/dist-packages/keras/backend/tensorflow_backend.py:207: The name tf.global_variables is deprecated. Please use tf.compat.v1.global_variables instead.\n",
            "\n",
            "WARNING:tensorflow:From /usr/local/lib/python3.6/dist-packages/keras/backend/tensorflow_backend.py:216: The name tf.is_variable_initialized is deprecated. Please use tf.compat.v1.is_variable_initialized instead.\n",
            "\n",
            "WARNING:tensorflow:From /usr/local/lib/python3.6/dist-packages/keras/backend/tensorflow_backend.py:223: The name tf.variables_initializer is deprecated. Please use tf.compat.v1.variables_initializer instead.\n",
            "\n",
            "50000/50000 [==============================] - 50s 1ms/step - loss: 1.8607 - acc: 0.3374 - val_loss: 1.6290 - val_acc: 0.4239\n",
            "Epoch 2/4\n",
            "50000/50000 [==============================] - 50s 992us/step - loss: 1.4244 - acc: 0.4994 - val_loss: 1.3904 - val_acc: 0.5042\n",
            "Epoch 3/4\n",
            "50000/50000 [==============================] - 50s 999us/step - loss: 1.2397 - acc: 0.5617 - val_loss: 1.2992 - val_acc: 0.5305\n",
            "Epoch 4/4\n",
            "50000/50000 [==============================] - 50s 996us/step - loss: 1.1164 - acc: 0.6088 - val_loss: 1.2009 - val_acc: 0.5714\n"
          ],
          "name": "stdout"
        },
        {
          "output_type": "execute_result",
          "data": {
            "text/plain": [
              "<keras.callbacks.History at 0x7fea601bc668>"
            ]
          },
          "metadata": {
            "tags": []
          },
          "execution_count": 25
        }
      ]
    },
    {
      "cell_type": "code",
      "metadata": {
        "id": "xNg391zVH6Z9",
        "colab_type": "code",
        "colab": {
          "base_uri": "https://localhost:8080/",
          "height": 145
        },
        "outputId": "0a96933c-8eca-461c-e8df-3211c67679f0"
      },
      "source": [
        "def draw(data, row, col, n):\n",
        "  plt.subplot(row, col, n)\n",
        "  plt.imshow(data)\n",
        "\n",
        "show_size = 10\n",
        "plt.figure(figsize=(20,20))\n",
        "for i in range(show_size):\n",
        "  draw(X_train[i].reshape(3, 32, 32).transpose(1, 2, 0), 1, show_size, i+1)\n",
        "plt.show()"
      ],
      "execution_count": 26,
      "outputs": [
        {
          "output_type": "display_data",
          "data": {
            "image/png": "[encoded data removed]",
            "text/plain": [
              "<Figure size 1440x1440 with 10 Axes>"
            ]
          },
          "metadata": {
            "tags": []
          }
        }
      ]
    },
    {
      "cell_type": "code",
      "metadata": {
        "id": "7ObaKuHSJxnF",
        "colab_type": "code",
        "colab": {
          "base_uri": "https://localhost:8080/",
          "height": 51
        },
        "outputId": "dcc299db-1196-4e25-8bb5-e78c0dae5556"
      },
      "source": [
        "get_first_layer_output = K.function([model.layers[0].input], [model.\n",
        "layers[1].output])\n",
        "first_layer = get_first_layer_output([X_train[0:show_size]])[0]\n",
        "plt.figure(figsize=(20,20))"
      ],
      "execution_count": 27,
      "outputs": [
        {
          "output_type": "execute_result",
          "data": {
            "text/plain": [
              "<Figure size 1440x1440 with 0 Axes>"
            ]
          },
          "metadata": {
            "tags": []
          },
          "execution_count": 27
        },
        {
          "output_type": "display_data",
          "data": {
            "text/plain": [
              "<Figure size 1440x1440 with 0 Axes>"
            ]
          },
          "metadata": {
            "tags": []
          }
        }
      ]
    },
    {
      "cell_type": "code",
      "metadata": {
        "id": "_UYPBuzoJyZX",
        "colab_type": "code",
        "colab": {}
      },
      "source": [
        "for img_index, filters in enumerate(first_layer, start=1):\n",
        "  for filter_index, mat in enumerate(filters):\n",
        "    pos = (filter_index)*show_size+img_index\n",
        "    draw(mat, nb_filter, show_size, pos)\n",
        "plt.show()"
      ],
      "execution_count": 0,
      "outputs": []
    },
    {
      "cell_type": "code",
      "metadata": {
        "id": "5BqL8ToCJ2_Q",
        "colab_type": "code",
        "colab": {}
      },
      "source": [
        "get_second_layer_output = K.function([model.layers[0].input], [model.layers[3].output])\n",
        "second_layers = get_second_layer_output([X_train[0:show_size]])[0]\n",
        "plt.figure(figsize=(20,20))\n",
        "for img_index, filters in enumerate(second_layers, start=1):\n",
        "  for filter_index, mat in enumerate(filters):\n",
        "    pos = (filter_index)*show_size+img_index\n",
        "    draw(mat, nb_filter, show_size, pos)\n",
        "plt.show()"
      ],
      "execution_count": 0,
      "outputs": []
    },
    {
      "cell_type": "code",
      "metadata": {
        "id": "raDlXrJ2KBxW",
        "colab_type": "code",
        "colab": {}
      },
      "source": [
        "get_third_layer_output = K.function([model.layers[0].input], [model.layers[4].output])\n",
        "third_layers = get_third_layer_output([X_train[0:show_size]])[0]\n",
        "plt.figure(figsize=(20,20))\n",
        "for img_index, filters in enumerate(third_layers, start=1):\n",
        "  for filter_index, mat in enumerate(filters):\n",
        "    pos = (filter_index)*show_size+img_index\n",
        "    mat_size = mat.shape[1]\n",
        "    draw(mat, nb_filter, show_size, pos)\n",
        "plt.show()"
      ],
      "execution_count": 0,
      "outputs": []
    },
    {
      "cell_type": "markdown",
      "metadata": {
        "id": "HQaC1ka-JqPE",
        "colab_type": "text"
      },
      "source": [
        "# CNN on MNIST Dataset"
      ]
    },
    {
      "cell_type": "code",
      "metadata": {
        "id": "mmP7nslYKb5c",
        "colab_type": "code",
        "colab": {
          "base_uri": "https://localhost:8080/",
          "height": 68
        },
        "outputId": "c92f44f8-c504-41c5-9ab5-8930c4658a95"
      },
      "source": [
        "import keras\n",
        "keras.backend.backend()\n",
        "keras.backend.image_data_format()\n",
        "K = keras.backend.backend()\n",
        "if K=='tensorflow':\n",
        " keras.backend.tensorflow_backend.set_image_dim_ordering('tf')\n",
        "else:\n",
        " keras.backend.tensorflow_backend.  set_image_dim_ordering('th')\n",
        "from matplotlib import pyplot as plt\n",
        "%matplotlib inline\n",
        "import numpy as np\n",
        "np.random.seed(2017)\n",
        "from keras import backend as K\n",
        "from keras.models import Sequential\n",
        "from keras.datasets import mnist\n",
        "from keras.layers import Dense, Dropout, Activation, Convolution2D, MaxPooling2D, Flatten\n",
        "from keras.utils import np_utils\n",
        "from keras.preprocessing import sequence\n",
        "from keras import backend as K\n",
        "from keras.utils.vis_utils import plot_model\n",
        "from IPython.display import SVG, display\n",
        "img_rows, img_cols = 28, 28\n",
        "nb_classes = 10\n",
        "nb_filters = 5 # the number of filters\n",
        "nb_pool = 2 # window size of pooling\n",
        "nb_conv = 3 # window or kernel size of filter\n",
        "nb_epoch = 5\n",
        "# image dimension based on backend. ‘th’ = theano and ‘tf’ = tensorflow\n",
        "if K.image_data_format() == 'th':\n",
        " input_shape = (1, img_rows, img_cols)\n",
        "else:\n",
        " input_shape = (img_rows, img_cols, 1)\n",
        "# data\n",
        "(X_train, y_train), (X_test, y_test) = mnist.load_data()\n",
        "X_train = X_train.reshape(X_train.shape[0], 1, img_rows, img_cols)\n",
        "X_test = X_test.reshape(X_test.shape[0], 1, img_rows, img_cols)\n",
        "X_train = X_train.astype('float32')\n",
        "X_test = X_test.astype('float32')\n",
        "\n",
        "X_train /= 255\n",
        "X_test /= 255\n",
        "print('X_train shape:', X_train.shape)\n",
        "print(X_train.shape[0], 'train samples')\n",
        "print(X_test.shape[0], 'test samples')\n",
        "# convert class vectors to binary class matrices\n",
        "Y_train = np_utils.to_categorical(y_train, nb_classes)\n",
        "Y_test = np_utils.to_categorical(y_test, nb_classes)"
      ],
      "execution_count": 43,
      "outputs": [
        {
          "output_type": "stream",
          "text": [
            "X_train shape: (60000, 1, 28, 28)\n",
            "60000 train samples\n",
            "10000 test samples\n"
          ],
          "name": "stdout"
        }
      ]
    },
    {
      "cell_type": "code",
      "metadata": {
        "id": "47yBTz3vLZ81",
        "colab_type": "code",
        "colab": {
          "base_uri": "https://localhost:8080/",
          "height": 139
        },
        "outputId": "8084314c-cbdf-4ea6-e07c-ac43bc96638d"
      },
      "source": [
        "feature_layers = [\n",
        " Convolution2D(nb_filters, nb_conv, nb_conv, input_shape=input_shape),\n",
        " Activation('relu'),\n",
        " Convolution2D(nb_filters, nb_conv, nb_conv),\n",
        " Activation('relu'),\n",
        " MaxPooling2D(pool_size=(nb_pool, nb_pool)),\n",
        " Dropout(0.25),\n",
        " Flatten(),\n",
        "]\n",
        "classification_layers = [\n",
        " Dense(128),\n",
        " Activation('relu'),\n",
        " Dropout(0.5),\n",
        " Dense(nb_classes),\n",
        " Activation('softmax')\n",
        "]\n",
        "model = Sequential(feature_layers + classification_layers)\n",
        "feature_layers = [\n",
        " Convolution2D(nb_filters, nb_conv, nb_conv, input_shape=input_shape),\n",
        " Activation('relu'),\n",
        " Convolution2D(nb_filters, nb_conv, nb_conv),\n",
        " Activation('relu'),\n",
        " MaxPooling2D(pool_size=(nb_pool, nb_pool)),\n",
        " Dropout(0.25),\n",
        " Flatten(),\n",
        "]\n",
        "\n",
        "classification_layers = [\n",
        " Dense(128),\n",
        " Activation('relu'),\n",
        " Dropout(0.5),\n",
        " Dense(nb_classes),\n",
        " Activation('softmax')\n",
        "]"
      ],
      "execution_count": 46,
      "outputs": [
        {
          "output_type": "stream",
          "text": [
            "/usr/local/lib/python3.6/dist-packages/ipykernel_launcher.py:2: UserWarning: Update your `Conv2D` call to the Keras 2 API: `Conv2D(5, (3, 3), input_shape=(28, 28, 1...)`\n",
            "  \n",
            "/usr/local/lib/python3.6/dist-packages/ipykernel_launcher.py:4: UserWarning: Update your `Conv2D` call to the Keras 2 API: `Conv2D(5, (3, 3))`\n",
            "  after removing the cwd from sys.path.\n",
            "/usr/local/lib/python3.6/dist-packages/ipykernel_launcher.py:19: UserWarning: Update your `Conv2D` call to the Keras 2 API: `Conv2D(5, (3, 3), input_shape=(28, 28, 1...)`\n",
            "/usr/local/lib/python3.6/dist-packages/ipykernel_launcher.py:21: UserWarning: Update your `Conv2D` call to the Keras 2 API: `Conv2D(5, (3, 3))`\n"
          ],
          "name": "stderr"
        }
      ]
    },
    {
      "cell_type": "code",
      "metadata": {
        "id": "9EnQg9VXKeck",
        "colab_type": "code",
        "colab": {
          "base_uri": "https://localhost:8080/",
          "height": 578
        },
        "outputId": "8e3ce96a-7d16-42be-c464-589b62c2d1b4"
      },
      "source": [
        "model = Sequential(feature_layers + classification_layers)\n",
        "print(model.summary())"
      ],
      "execution_count": 47,
      "outputs": [
        {
          "output_type": "stream",
          "text": [
            "Model: \"sequential_7\"\n",
            "_________________________________________________________________\n",
            "Layer (type)                 Output Shape              Param #   \n",
            "=================================================================\n",
            "conv2d_19 (Conv2D)           (None, 26, 26, 5)         50        \n",
            "_________________________________________________________________\n",
            "activation_33 (Activation)   (None, 26, 26, 5)         0         \n",
            "_________________________________________________________________\n",
            "conv2d_20 (Conv2D)           (None, 24, 24, 5)         230       \n",
            "_________________________________________________________________\n",
            "activation_34 (Activation)   (None, 24, 24, 5)         0         \n",
            "_________________________________________________________________\n",
            "max_pooling2d_9 (MaxPooling2 (None, 12, 12, 5)         0         \n",
            "_________________________________________________________________\n",
            "dropout_8 (Dropout)          (None, 12, 12, 5)         0         \n",
            "_________________________________________________________________\n",
            "flatten_9 (Flatten)          (None, 720)               0         \n",
            "_________________________________________________________________\n",
            "dense_15 (Dense)             (None, 128)               92288     \n",
            "_________________________________________________________________\n",
            "activation_35 (Activation)   (None, 128)               0         \n",
            "_________________________________________________________________\n",
            "dropout_9 (Dropout)          (None, 128)               0         \n",
            "_________________________________________________________________\n",
            "dense_16 (Dense)             (None, 10)                1290      \n",
            "_________________________________________________________________\n",
            "activation_36 (Activation)   (None, 10)                0         \n",
            "=================================================================\n",
            "Total params: 93,858\n",
            "Trainable params: 93,858\n",
            "Non-trainable params: 0\n",
            "_________________________________________________________________\n",
            "None\n"
          ],
          "name": "stdout"
        }
      ]
    },
    {
      "cell_type": "markdown",
      "metadata": {
        "id": "Ox8l1VlDLmSI",
        "colab_type": "text"
      },
      "source": [
        "# Visualization of Layers"
      ]
    },
    {
      "cell_type": "code",
      "metadata": {
        "id": "BySQTxi1LolW",
        "colab_type": "code",
        "colab": {
          "base_uri": "https://localhost:8080/",
          "height": 125
        },
        "outputId": "d05cc6a9-2abc-474e-ccd3-c75a55af5015"
      },
      "source": [
        "def draw(data, row, col, n):\n",
        "  plt.subplot(row, col, n)\n",
        "  plt.imshow(data, cmap=plt.cm.gray_r)\n",
        "  plt.axis('off')\n",
        "\n",
        "\n",
        "show_size = 10\n",
        "plt.figure(figsize=(20,20))\n",
        "for i in range(show_size):\n",
        "  draw(X_train[i].reshape(28,28), 1, show_size, i+1)\n",
        "plt.show()\n"
      ],
      "execution_count": 48,
      "outputs": [
        {
          "output_type": "display_data",
          "data": {
            "image/png": "[encoded data removed]",
            "text/plain": [
              "<Figure size 1440x1440 with 10 Axes>"
            ]
          },
          "metadata": {
            "tags": []
          }
        }
      ]
    },
    {
      "cell_type": "code",
      "metadata": {
        "id": "z-NobVQvLtvn",
        "colab_type": "code",
        "colab": {}
      },
      "source": [
        "get_first_layer_output = K.function([model.layers[0].input], [model.layers[1].output])\n",
        "first_layer = get_first_layer_output([X_train[0:show_size]])[0]\n",
        "plt.figure(figsize=(20,20))\n",
        "print('first layer shape: ', first_layer.shape)\n",
        "for img_index, filters in enumerate(first_layer, start=1):\n",
        " for filter_index, mat in enumerate(filters):\n",
        "  pos = (filter_index)*10+img_index\n",
        "  draw(mat, nb_filters, show_size, pos)\n",
        "plt.tight_layout()\n",
        "plt.show()"
      ],
      "execution_count": 0,
      "outputs": []
    },
    {
      "cell_type": "code",
      "metadata": {
        "id": "IUxSNdLXLwUV",
        "colab_type": "code",
        "colab": {}
      },
      "source": [
        ""
      ],
      "execution_count": 0,
      "outputs": []
    }
  ]
}